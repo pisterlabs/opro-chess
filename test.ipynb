{
 "cells": [
  {
   "cell_type": "code",
   "execution_count": 2,
   "metadata": {},
   "outputs": [
    {
     "name": "stdout",
     "output_type": "stream",
     "text": [
      "11 6 4\n"
     ]
    }
   ],
   "source": [
    "import numpy as np\n",
    "import utils\n",
    "\n",
    "np.random.seed(42)\n",
    "RAND_COUNT = 25\n",
    "steps = np.random.randint(5,21, size=(RAND_COUNT)).tolist()  # 5-20\n",
    "total_games = np.random.randint(1,21, size=(RAND_COUNT)).tolist()  # 1-20, then 50-100\n",
    "num = np.random.randint(1,6, size=(RAND_COUNT)).tolist()  # 1-5\n",
    "\n",
    "print(steps[0], total_games[0], num[0])"
   ]
  },
  {
   "cell_type": "code",
   "execution_count": null,
   "metadata": {},
   "outputs": [],
   "source": []
  }
 ],
 "metadata": {
  "kernelspec": {
   "display_name": "Python 3",
   "language": "python",
   "name": "python3"
  },
  "language_info": {
   "codemirror_mode": {
    "name": "ipython",
    "version": 3
   },
   "file_extension": ".py",
   "mimetype": "text/x-python",
   "name": "python",
   "nbconvert_exporter": "python",
   "pygments_lexer": "ipython3",
   "version": "3.10.12"
  }
 },
 "nbformat": 4,
 "nbformat_minor": 2
}
