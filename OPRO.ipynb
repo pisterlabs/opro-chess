{
 "cells": [
  {
   "cell_type": "markdown",
   "metadata": {},
   "source": [
    "### Processing Data"
   ]
  },
  {
   "cell_type": "code",
   "execution_count": 1,
   "metadata": {},
   "outputs": [],
   "source": [
    "import json\n",
    "from Game import ChessGame\n",
    "import os\n",
    "from tqdm import tqdm\n",
    "\n",
    "NUM_GAMES = 250\n",
    "\n",
    "# Processing data\n",
    "if not os.path.exists(\"PGNs/data_processed.json\"):\n",
    "    data = json.loads(open(\"PGNs/data.json\", \"r\").read())\n",
    "    fens = data[\"fens\"][:NUM_GAMES]\n",
    "    moves_till_now = data[\"moves\"][:NUM_GAMES]\n",
    "    legal_move_scores_lst = []\n",
    "    best_move_lst = []\n",
    "    current_position_score_lst = []\n",
    "    best_move_score_lst = []\n",
    "\n",
    "    game = ChessGame()\n",
    "    for fen in tqdm(fens):\n",
    "        game.set_board_to_fen(fen)\n",
    "        best_move = game.get_best_move()\n",
    "        current_position_score = game.get_score()\n",
    "        game.play_move(best_move, san=True)\n",
    "\n",
    "        # Caching legal moves and their scores\n",
    "        legal_moves = [game.get_board().san(move) for move in game.get_board().legal_moves]\n",
    "        legal_move_scores = {}\n",
    "        for move in legal_moves:\n",
    "            game.play_move(move, san=True)\n",
    "            legal_move_scores[move] = game.get_score()\n",
    "            game.get_board().pop()\n",
    "        legal_move_scores = dict(sorted(legal_move_scores.items(), key=lambda item: item[1], reverse=True))\n",
    "\n",
    "        # Append to lists\n",
    "        legal_move_scores_lst.append(legal_move_scores)\n",
    "        best_move_lst.append(best_move)\n",
    "        current_position_score_lst.append(current_position_score)\n",
    "\n",
    "    # Closing game\n",
    "    game.close()\n",
    "\n",
    "    data[\"fens\"] = fens\n",
    "    data[\"moves\"] = moves_till_now\n",
    "    data[\"legal_move_scores\"] = legal_move_scores_lst\n",
    "    data[\"best_move\"] = best_move_lst\n",
    "    data[\"current_position_score\"] = current_position_score_lst\n",
    "\n",
    "    # Save data\n",
    "    with open(\"PGNs/data_processed.json\", \"w\") as f:\n",
    "        f.write(json.dumps(data, indent=4))\n",
    "\n",
    "data = json.loads(open(\"PGNs/data_processed.json\", \"r\").read())"
   ]
  },
  {
   "cell_type": "markdown",
   "metadata": {},
   "source": [
    "### Understanding Scoring\n",
    "\n",
    "Positive --> White Winning\n",
    "Negative --> Black Winning\n",
    "Zero --> Draw\n",
    "\n",
    "Problem: Best move doesn't have the hight or lowest score among all the legal moves..."
   ]
  },
  {
   "cell_type": "code",
   "execution_count": 2,
   "metadata": {},
   "outputs": [],
   "source": [
    "# data = json.loads(open(\"PGNs/data.json\", \"r\").read())\n",
    "# game = ChessGame(data[\"fens\"][56])\n",
    "# legal_moves = [game.get_board().san(move) for move in game.get_board().legal_moves]\n",
    "# best_move = game.get_best_move()\n",
    "# print(f\"Game Position: {game.get_board().fen()}\")\n",
    "# print(f\"Cuurent Score: {game.get_score()}\")\n",
    "# scores = []\n",
    "# for move in legal_moves:\n",
    "#     print(\"### BEST MOVE ###\") if move == best_move else None\n",
    "#     game.play_move(move, san=True)\n",
    "#     score = game.get_score()\n",
    "#     scores.append(score)\n",
    "#     print(f\"Playing move: {move}, Score: {score}\")\n",
    "#     game.get_board().pop()\n",
    "# game.close()\n",
    "# # Best Score\n",
    "# print(f\"Best Score: {max(scores)}\")"
   ]
  },
  {
   "cell_type": "markdown",
   "metadata": {},
   "source": [
    "### Setting up Scorer LLM"
   ]
  },
  {
   "cell_type": "code",
   "execution_count": 3,
   "metadata": {},
   "outputs": [],
   "source": [
    "from langchain_community.llms import Ollama\n",
    "from requests import ReadTimeout\n",
    "\n",
    "ollama = Ollama(model=\"gemma:2b\", temperature=0, num_gpu = 40, timeout=60)\n",
    "\n",
    "question_template = \"\"\"Q: Given the moves played till now, and current Chess Position as a fen string, return the next best move in SAN format.\n",
    "Chess Position as FEN: {fen}\n",
    "Moves played till now: {moves}\n",
    "\"\"\"\n",
    "\n",
    "def chat(message):\n",
    "    temp = ollama.timeout\n",
    "    while True:\n",
    "        try:\n",
    "            # Max Tokens = 20\n",
    "            res = ollama.invoke(message, num_predict=20)\n",
    "            return res\n",
    "        except ReadTimeout:\n",
    "            if ollama.timeout > 120:\n",
    "                print(f\"Inference lasted for {ollama.timeout} seconds. Stopping now.\")\n",
    "                break\n",
    "            ollama.timeout *= 2\n",
    "            print(f\"### ReadTimeout. Trying again with Timeout: {ollama.timeout} seconds ###\")\n",
    "        except Exception as e:\n",
    "            print(f\"### {e} ###\")\n",
    "            break\n",
    "    ollama.timeout = temp\n",
    "\n",
    "def score(data, instruction, show_progress=False):\n",
    "    \"\"\"Checks how well a prompt does in helping the llm predict the next best move.\"\"\"\n",
    "    if show_progress:\n",
    "        iterable_obj = tqdm(range(len(data[\"fens\"])))\n",
    "    else:\n",
    "        iterable_obj = range(len(data[\"fens\"]))\n",
    "\n",
    "    score = 0\n",
    "    qa_template = question_template + \"A: {prompt}\\n\"\n",
    "\n",
    "    for i in iterable_obj:\n",
    "        fen = data[\"fens\"][i]\n",
    "        moves = data[\"moves\"][i]\n",
    "        best_move = data[\"best_move\"][i]\n",
    "        legal_moves = list(data[\"legal_move_scores\"][i].keys())\n",
    "        \n",
    "        res = chat(qa_template.format(fen=fen, moves=moves, prompt=instruction))\n",
    "\n",
    "        # Scoring based on how good the move is.\n",
    "        # score += best_move in res\n",
    "        for i in range(len(legal_moves)):\n",
    "            if legal_moves[i] in res:\n",
    "                score += 1 / (i + 1)\n",
    "                break\n",
    "    \n",
    "    score = round(score / len(data[\"fens\"]) * 100, 2)\n",
    "    return score"
   ]
  },
  {
   "cell_type": "markdown",
   "metadata": {},
   "source": [
    "### Optimizer LLM"
   ]
  },
  {
   "cell_type": "code",
   "execution_count": 4,
   "metadata": {},
   "outputs": [],
   "source": [
    "import google.generativeai as genai\n",
    "\n",
    "genai.configure(api_key=os.getenv(\"GEMINI_API_KEY\"))\n",
    "gemini = genai.GenerativeModel(\n",
    "    \"gemini-pro\",\n",
    "    generation_config=genai.GenerationConfig(temperature=1, max_output_tokens=2048),\n",
    ")\n",
    "\n",
    "\n",
    "def optimize(instruction_score_pairs, llm=\"gemini\"):\n",
    "    # Format the instruction and score pairs into a string\n",
    "    pairs_str = \"\"\n",
    "    for ins, score in instruction_score_pairs.items():\n",
    "        pairs_str += f\"text:\\n{ins}\\nscore:\\n{score:.2f}\\n\\n\"\n",
    "\n",
    "    prompt = \"\"\"You are an optimization expert. The user has some texts along with their corresponding scores.\n",
    "Your task is to generate a new piece of text that scores as high as possible. \n",
    "Generate the new unique text only, not its corresponding score.\n",
    "\n",
    "I have some texts along with their corresponding scores. The texts are arranged in ascending order\n",
    "based on their scores, where higher scores indicate better quality.\n",
    "\n",
    "{pairs_str}\n",
    "\n",
    "The following exemplars show how to apply your text: you replace <INS> in each input with your\n",
    "text, then read the input and give an output. We say your output is wrong if your output is different\n",
    "from the given output, and we say your output is correct if they are the same.\n",
    "\n",
    "input:\n",
    "Q: {q1}\n",
    "A: <INS>\n",
    "output:\n",
    "{a1}\n",
    "\n",
    "input:\n",
    "Q: {q2}\n",
    "A: <INS>\n",
    "output:\n",
    "{a2}\n",
    "\n",
    "input:\n",
    "Q: {q3}\n",
    "A: <INS>\n",
    "output:\n",
    "{a3}\n",
    "\n",
    "Write your new text that is different from the old ones and has a score as high as possible.\n",
    "Generate the new unique text only, not its corresponding score.\n",
    "New instruction:\n",
    "\"\"\"\n",
    "\n",
    "    # Passing 20 Best Instruction-Score Pairs\n",
    "    # 3 randomly chosen questions/answers from the training sample\n",
    "    q1, q2, q3 = (\n",
    "        question_template.format(fen=data[\"fens\"][NUM_GAMES-1], moves=data[\"moves\"][NUM_GAMES-1]),\n",
    "        question_template.format(fen=data[\"fens\"][NUM_GAMES-2], moves=data[\"moves\"][NUM_GAMES-2]),\n",
    "        question_template.format(fen=data[\"fens\"][NUM_GAMES-3], moves=data[\"moves\"][NUM_GAMES-3]),\n",
    "    )\n",
    "    a1, a2, a3 = (\n",
    "        data[\"best_move\"][NUM_GAMES-1],\n",
    "        data[\"best_move\"][NUM_GAMES-2],\n",
    "        data[\"best_move\"][NUM_GAMES-3],\n",
    "    )\n",
    "    \n",
    "    # response = gemini.generate_content(\n",
    "    #     prompt.format(pairs_str=pairs_str, q1=q1, q2=q2, q3=q3, a1=a1, a2=a2, a3=a3),\n",
    "    # ).text\n",
    "    response = gemini.generate_content(prompt.format(pairs_str=pairs_str, q1=q1, q2=q2, q3=q3, a1=a1, a2=a2, a3=a3)).candidates[0].content.parts[0].text\n",
    "    return response"
   ]
  },
  {
   "cell_type": "markdown",
   "metadata": {},
   "source": [
    "### OPRO"
   ]
  },
  {
   "cell_type": "code",
   "execution_count": 5,
   "metadata": {},
   "outputs": [],
   "source": [
    "# Sample 3.5% of the training set\n",
    "INS_PER_STEP = 8\n",
    "MAX_INS_SCORE_PAIRS = 20\n",
    "TRAIN_DATA_SIZE = 30\n",
    "TEST_DATA_SIZE = 200\n",
    "data = json.loads(open(\"PGNs/data_processed.json\", \"r\").read())\n",
    "\n",
    "# Train test spit\n",
    "train_data = {\n",
    "    \"fens\": data[\"fens\"][:TRAIN_DATA_SIZE],\n",
    "    \"moves\": data[\"moves\"][:TRAIN_DATA_SIZE],\n",
    "    \"legal_move_scores\": data[\"legal_move_scores\"][:TRAIN_DATA_SIZE],\n",
    "    \"best_move\": data[\"best_move\"][:TRAIN_DATA_SIZE],\n",
    "    \"current_position_score\": data[\"current_position_score\"][:TRAIN_DATA_SIZE],\n",
    "}\n",
    "\n",
    "test_data = {\n",
    "    \"fens\": data[\"fens\"][TRAIN_DATA_SIZE:TRAIN_DATA_SIZE+TEST_DATA_SIZE],\n",
    "    \"moves\": data[\"moves\"][TRAIN_DATA_SIZE:TRAIN_DATA_SIZE+TEST_DATA_SIZE],\n",
    "    \"legal_move_scores\": data[\"legal_move_scores\"][TRAIN_DATA_SIZE:TRAIN_DATA_SIZE+TEST_DATA_SIZE],\n",
    "    \"best_move\": data[\"best_move\"][TRAIN_DATA_SIZE:TRAIN_DATA_SIZE+TEST_DATA_SIZE],\n",
    "    \"current_position_score\": data[\"current_position_score\"][TRAIN_DATA_SIZE:TRAIN_DATA_SIZE+TEST_DATA_SIZE],\n",
    "}\n",
    "\n",
    "# loading saved data\n",
    "FILENAME = \"trial4.json\"\n",
    "if os.path.exists(FILENAME):\n",
    "    with open(FILENAME, \"r\") as f:\n",
    "        opro_results = json.load(f)\n",
    "    starting_step = len(opro_results) + 1\n",
    "    ins_score_pairs = opro_results[str(len(opro_results))]\n",
    "else:\n",
    "    ins_lst = [\n",
    "        \"Let's think step by step.\",\n",
    "        \"Solve.\",\n",
    "        \"What should our next step be?\",\n",
    "        \"Let’s think about this logically\",\n",
    "        \"Take a deep breath and think through this.\",\n",
    "        \"Break this down\",\n",
    "        \"Let’s solve this problem by splitting it into steps\",\n",
    "    ]\n",
    "    ins_score_pairs = {ins:score(train_data, ins) for ins in tqdm(ins_lst)}\n",
    "    starting_step = 1\n",
    "    opro_results = {starting_step: ins_score_pairs}\n",
    "    with open(FILENAME, \"w\") as f:\n",
    "        json.dump(opro_results, f)\n",
    "\n",
    "# Each step takes aboy 5 to 10 minutes with gemma:2b\n",
    "STEP_COUNT = 0\n",
    "TARGET_STEP = starting_step + STEP_COUNT\n",
    "assert TARGET_STEP >= starting_step, \"TARGET_STEP should be greater than step.\"\n",
    "for i in range(starting_step, TARGET_STEP):\n",
    "    print(f\"Step {i}\")\n",
    "    while True:\n",
    "        try:\n",
    "            # Optimizer LLM\n",
    "            print(\"Optimizing instructions...\")\n",
    "            instructions = [optimize(ins_score_pairs) for _ in tqdm(range(INS_PER_STEP))]\n",
    "            \n",
    "            # Scoring the new instructions\n",
    "            print(\"Scoring instructions...\")\n",
    "            new_ins_score_pairs = {ins: score(train_data, ins) for ins in tqdm(instructions)}\n",
    "            combined_ins_score_pairs = {**ins_score_pairs, **new_ins_score_pairs}\n",
    "            ins_score_pairs = dict(sorted(combined_ins_score_pairs.items(), key=lambda x: x[1], reverse=True)[:MAX_INS_SCORE_PAIRS])\n",
    "\n",
    "            # Saving data\n",
    "            opro_results[i] = ins_score_pairs\n",
    "            with open(FILENAME, \"w\") as f:\n",
    "                json.dump(opro_results, f)\n",
    "            \n",
    "            break\n",
    "        except ValueError as e:\n",
    "            print(e)\n",
    "        except Exception as e:\n",
    "            print(e)"
   ]
  },
  {
   "cell_type": "markdown",
   "metadata": {},
   "source": [
    "### Plotting OPRO Results"
   ]
  },
  {
   "cell_type": "code",
   "execution_count": 6,
   "metadata": {},
   "outputs": [
    {
     "data": {
      "text/plain": [
       "Text(0.5, 1.0, 'Step to Accuracy')"
      ]
     },
     "execution_count": 6,
     "metadata": {},
     "output_type": "execute_result"
    },
    {
     "data": {
      "image/png": "[encoded data removed]",
      "text/plain": [
       "<Figure size 640x480 with 1 Axes>"
      ]
     },
     "metadata": {},
     "output_type": "display_data"
    }
   ],
   "source": [
    "import statistics\n",
    "import matplotlib.pyplot as plt\n",
    "\n",
    "# load opro.json\n",
    "with open(FILENAME) as f:\n",
    "    opro_results = json.load(f)\n",
    "\n",
    "# opro = {step:dict(sorted(opro[step].items(), key=lambda x: x[1], reverse=True)[:20]) for step in opro}\n",
    "step_to_accuracy = {step: (statistics.mean(opro_results[step].values()), statistics.stdev(opro_results[step].values())) for step in opro_results}\n",
    "\n",
    "# Plot step to accuracy as a continuous line graph, including stdevs as highlighted error bars\n",
    "fig, ax = plt.subplots()\n",
    "ax.errorbar(step_to_accuracy.keys(), [accuracy[0] for accuracy in step_to_accuracy.values()], yerr=[accuracy[1] for accuracy in step_to_accuracy.values()], fmt='o')\n",
    "ax.set_xticks([step for step in step_to_accuracy.keys() if int(step) % 5 == 0])\n",
    "ax.set_xlabel('Step')\n",
    "ax.set_ylabel('Accuracy')\n",
    "ax.set_title('Step to Accuracy')"
   ]
  },
  {
   "cell_type": "code",
   "execution_count": 7,
   "metadata": {},
   "outputs": [
    {
     "data": {
      "text/plain": [
       "{'What should our next step be?': 6.97,\n",
       " 'Utilize your critical thinking skills to solve this problem and find the best solution.': 6.21,\n",
       " 'Identify all possible moves for the current position and analyze each move deeply to find the one that gives the best advantage.': 5.21,\n",
       " 'Take a deep breath and think through this.': 4.76,\n",
       " 'Utilize your critical thinking abilities to devise an astute response.': 4.62,\n",
       " 'Select a strong move for the position with some impressive tactics.': 4.6,\n",
       " 'Find a shrewd move that can determine the destiny of the entire game.': 4.6,\n",
       " 'Refine and strengthen your problem-solving abilities for continuous success.': 4.58,\n",
       " 'Consider the situation from another angle': 4.37,\n",
       " 'Seek to always strive for learning and improvement': 4.19,\n",
       " 'Find an optimal move for the given position.': 3.96,\n",
       " 'Contemplate meticulously, considering all potential ramifications.': 3.79,\n",
       " 'Look at the puzzle like a photographer.': 3.73,\n",
       " 'Exercise adaptability and resourcefulness in your work.': 3.73,\n",
       " 'Identify the most advantageous continuation from the current board position.': 3.53,\n",
       " 'Locate all the possible candidate moves for the current position and evaluate each move precisely to discover the one that provides the greatest benefit.': 3.33,\n",
       " 'Think criqtically and think out of the box': 3.29,\n",
       " 'Solve.': 3.23,\n",
       " 'Identify all the possible candidate moves for the current position and evaluate each move meticulously to discover the one that provides the greatest positional advantage.': 3.16,\n",
       " 'Think out of the box and select a strong move in this given position.': 3.14}"
      ]
     },
     "execution_count": 7,
     "metadata": {},
     "output_type": "execute_result"
    }
   ],
   "source": [
    "opro_results[str(len(opro_results))]"
   ]
  },
  {
   "cell_type": "code",
   "execution_count": 8,
   "metadata": {},
   "outputs": [
    {
     "name": "stderr",
     "output_type": "stream",
     "text": [
      "100%|██████████| 200/200 [01:20<00:00,  2.48it/s]\n"
     ]
    },
    {
     "name": "stdout",
     "output_type": "stream",
     "text": [
      "No instruction:  3.47\n"
     ]
    },
    {
     "name": "stderr",
     "output_type": "stream",
     "text": [
      "100%|██████████| 200/200 [01:24<00:00,  2.35it/s]"
     ]
    },
    {
     "name": "stdout",
     "output_type": "stream",
     "text": [
      "With best instruction (What should our next step be?):  3.0\n"
     ]
    },
    {
     "name": "stderr",
     "output_type": "stream",
     "text": [
      "\n"
     ]
    }
   ],
   "source": [
    "best_instruction = max(opro_results[str(len(opro_results))], key=opro_results[str(len(opro_results))].get)\n",
    "print(\"No instruction: \", score(test_data, \"\", show_progress=True))\n",
    "print(f\"With best instruction ({best_instruction}): \", score(test_data, best_instruction, show_progress=True))"
   ]
  }
 ],
 "metadata": {
  "kernelspec": {
   "display_name": "Python 3",
   "language": "python",
   "name": "python3"
  },
  "language_info": {
   "codemirror_mode": {
    "name": "ipython",
    "version": 3
   },
   "file_extension": ".py",
   "mimetype": "text/x-python",
   "name": "python",
   "nbconvert_exporter": "python",
   "pygments_lexer": "ipython3",
   "version": "3.10.12"
  }
 },
 "nbformat": 4,
 "nbformat_minor": 2
}
