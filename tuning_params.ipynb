{
 "cells": [
  {
   "cell_type": "code",
   "execution_count": null,
   "metadata": {},
   "outputs": [],
   "source": [
    "from main import *\n",
    "import json\n",
    "import numpy as np\n",
    "from tqdm import tqdm\n",
    "import time\n",
    "\n",
    "data = json.loads(open(\"PGNs/data.json\", \"r\").read())\n",
    "cohere_llm, openai_llm = init_llm()\n",
    "\n",
    "np.random.seed(42)\n",
    "RAND_COUNT = 20\n",
    "show_interval = np.random.randint(1000,20001, size=(RAND_COUNT))\n",
    "steps = np.random.randint(1,31, size=(RAND_COUNT))\n",
    "total_games = np.random.randint(50,101, size=(RAND_COUNT))\n",
    "batch = np.random.randint(1,51, size=(RAND_COUNT))\n",
    "num = np.random.randint(1,31, size=(RAND_COUNT))"
   ]
  },
  {
   "cell_type": "code",
   "execution_count": null,
   "metadata": {},
   "outputs": [],
   "source": [
    "# Example key-val pair\n",
    "# timeTaken: {show_interval: 0, steps: 0, total_games: 0, batch: 0, num: 0, output_str: \"\", avg_score: 0}\n",
    "param_results = {}\n",
    "\n",
    "for i in tqdm(range(100)):\n",
    "    start_time = time.time()\n",
    "    output_str, avg_score = run(\n",
    "        show_interval=show_interval[i],\n",
    "        steps=steps[i],\n",
    "        total_games=total_games[i],\n",
    "        batch=batch[i],\n",
    "        num=num[i],\n",
    "        openai_llm=openai_llm,\n",
    "        data=data,\n",
    "    )\n",
    "    end_time = time.time()\n",
    "    time_taken = end_time - start_time\n",
    "    param_results[time_taken] = {}\n",
    "    param_results[time_taken][\"show_interval\"] = show_interval[i]\n",
    "    param_results[time_taken][\"steps\"] = steps[i]\n",
    "    param_results[time_taken][\"total_games\"] = total_games[i]\n",
    "    param_results[time_taken][\"batch\"] = batch[i]\n",
    "    param_results[time_taken][\"num\"] = num[i]\n",
    "    param_results[time_taken][\"output_str\"] = output_str\n",
    "    param_results[time_taken][\"avg_score\"] = avg_score\n",
    "\n",
    "\n",
    "class NpEncoder(json.JSONEncoder):\n",
    "    def default(self, obj):\n",
    "        if isinstance(obj, np.integer):\n",
    "            return int(obj)\n",
    "        elif isinstance(obj, np.floating):\n",
    "            return float(obj)\n",
    "        elif isinstance(obj, np.ndarray):\n",
    "            return obj.tolist()\n",
    "        return super(NpEncoder, self).default(obj)\n",
    "\n",
    "\n",
    "with open(\"param_results.json\", \"w\") as f:\n",
    "    json.dump(param_results, f, cls=NpEncoder)"
   ]
  },
  {
   "cell_type": "code",
   "execution_count": null,
   "metadata": {},
   "outputs": [],
   "source": []
  },
  {
   "cell_type": "code",
   "execution_count": null,
   "metadata": {},
   "outputs": [],
   "source": []
  }
 ],
 "metadata": {
  "kernelspec": {
   "display_name": "Python 3",
   "language": "python",
   "name": "python3"
  },
  "language_info": {
   "codemirror_mode": {
    "name": "ipython",
    "version": 3
   },
   "file_extension": ".py",
   "mimetype": "text/x-python",
   "name": "python",
   "nbconvert_exporter": "python",
   "pygments_lexer": "ipython3",
   "version": "3.10.12"
  }
 },
 "nbformat": 4,
 "nbformat_minor": 2
}
